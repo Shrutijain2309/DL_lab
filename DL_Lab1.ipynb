{
  "nbformat": 4,
  "nbformat_minor": 0,
  "metadata": {
    "colab": {
      "provenance": []
    },
    "kernelspec": {
      "name": "python3",
      "display_name": "Python 3"
    },
    "language_info": {
      "name": "python"
    }
  },
  "cells": [
    {
      "cell_type": "code",
      "execution_count": null,
      "metadata": {
        "id": "Jnh1cKgUllC_"
      },
      "outputs": [],
      "source": [
        "x_input=[0.1,0.5,0.2]\n",
        "w_weight=[0.4,0.3,0.6]\n",
        "threshold=0.5"
      ]
    },
    {
      "cell_type": "code",
      "source": [
        "def perceptron():\n",
        "  weighted_sum = 0\n",
        "  for x,w in zip(x_input,w_weight):\n",
        "    weighted_sum += x*w\n",
        "    print(weighted_sum)\n",
        "  return step(weighted_sum)"
      ],
      "metadata": {
        "id": "JYMtWgqmqvE5"
      },
      "execution_count": null,
      "outputs": []
    },
    {
      "cell_type": "code",
      "source": [],
      "metadata": {
        "id": "vDYcPt3XrXrA"
      },
      "execution_count": null,
      "outputs": []
    },
    {
      "cell_type": "code",
      "source": [
        "def step(weighted_sum):\n",
        "  if weighted_sum >= threshold:\n",
        "    return 1\n",
        "  else:\n",
        "    return 0\n"
      ],
      "metadata": {
        "id": "WAoyzNc_qasS"
      },
      "execution_count": null,
      "outputs": []
    },
    {
      "cell_type": "code",
      "source": [
        "output = perceptron()\n",
        "print(\"Output=\",output)"
      ],
      "metadata": {
        "colab": {
          "base_uri": "https://localhost:8080/"
        },
        "id": "n3HDNZsMquNr",
        "outputId": "2f6e9d88-64ec-43c4-f792-f570d2da4dfb"
      },
      "execution_count": null,
      "outputs": [
        {
          "output_type": "stream",
          "name": "stdout",
          "text": [
            "0.04000000000000001\n",
            "0.19\n",
            "0.31\n",
            "Output= 0\n"
          ]
        }
      ]
    },
    {
      "cell_type": "markdown",
      "source": [
        "**After Changing Weights/Threshold**"
      ],
      "metadata": {
        "id": "u-unLKrLsdRc"
      }
    },
    {
      "cell_type": "code",
      "source": [
        "x_input=[0.1,0.5,0.2]\n",
        "w_weight=[0.4,0.7,0.6]\n",
        "threshold=0.5"
      ],
      "metadata": {
        "id": "Kk0LHtvTsitF"
      },
      "execution_count": null,
      "outputs": []
    },
    {
      "cell_type": "code",
      "source": [
        "def perceptron():\n",
        "  weighted_sum = 0\n",
        "  for x,w in zip(x_input,w_weight):\n",
        "    weighted_sum += x*w\n",
        "    print(weighted_sum)\n",
        "  return step(weighted_sum)"
      ],
      "metadata": {
        "id": "1r6PDznusl7P"
      },
      "execution_count": null,
      "outputs": []
    },
    {
      "cell_type": "code",
      "source": [
        "def step(weighted_sum):\n",
        "  if weighted_sum >= threshold:\n",
        "    return 1\n",
        "  else:\n",
        "    return 0"
      ],
      "metadata": {
        "id": "jXP72__ZsoF1"
      },
      "execution_count": null,
      "outputs": []
    },
    {
      "cell_type": "code",
      "source": [
        "output = perceptron()\n",
        "print(\"Output=\",output)"
      ],
      "metadata": {
        "colab": {
          "base_uri": "https://localhost:8080/"
        },
        "id": "HwcZEJpDspvu",
        "outputId": "56888519-ddf5-4d47-c206-f71ccc3ddfb6"
      },
      "execution_count": null,
      "outputs": [
        {
          "output_type": "stream",
          "name": "stdout",
          "text": [
            "0.04000000000000001\n",
            "0.39\n",
            "0.51\n",
            "Output= 1\n"
          ]
        }
      ]
    },
    {
      "cell_type": "markdown",
      "source": [
        "**Implementation of AND Gate**"
      ],
      "metadata": {
        "id": "L8NyzgRm2vgJ"
      }
    },
    {
      "cell_type": "code",
      "source": [
        "# importing Python library\n",
        "import numpy as np\n",
        "\n",
        "# define Unit Step Function\n",
        "def unitStep(v):\n",
        "\tif v >= 3:\n",
        "\t\treturn 1\n",
        "\telse:\n",
        "\t\treturn 0\n",
        "\n",
        "# design Perceptron Model\n",
        "def perceptronModel(x, w, b):\n",
        "\tv = np.dot(w, x) + b\n",
        "\ty = unitStep(v)\n",
        "\treturn y\n",
        "\n",
        "# AND Logic Function\n",
        "def AND_logicFunction(x):\n",
        "\tw = np.array([1, 1])\n",
        "\tb = 1\n",
        "\treturn perceptronModel(x, w, b)\n",
        "\n",
        "# testing the Perceptron Model\n",
        "test1 = np.array([0, 1])\n",
        "test2 = np.array([1, 1])\n",
        "test3 = np.array([0, 0])\n",
        "test4 = np.array([1, 0])\n",
        "\n",
        "print(\"AND({}, {}) = {}\".format(0, 1, AND_logicFunction(test1)))\n",
        "print(\"AND({}, {}) = {}\".format(1, 1, AND_logicFunction(test2)))\n",
        "print(\"AND({}, {}) = {}\".format(0, 0, AND_logicFunction(test3)))\n",
        "print(\"AND({}, {}) = {}\".format(1, 0, AND_logicFunction(test4)))\n"
      ],
      "metadata": {
        "colab": {
          "base_uri": "https://localhost:8080/"
        },
        "id": "oW9jRh8qvff3",
        "outputId": "91508289-1101-4ce9-a397-9921ac505392"
      },
      "execution_count": null,
      "outputs": [
        {
          "output_type": "stream",
          "name": "stdout",
          "text": [
            "AND(0, 1) = 0\n",
            "AND(1, 1) = 1\n",
            "AND(0, 0) = 0\n",
            "AND(1, 0) = 0\n"
          ]
        }
      ]
    },
    {
      "cell_type": "markdown",
      "source": [
        "**Implementation of OR Gate**"
      ],
      "metadata": {
        "id": "xZ_S7F7t4oEO"
      }
    },
    {
      "cell_type": "code",
      "source": [
        "def unitStep(v):\n",
        "\tif v > 1:\n",
        "\t\treturn 1\n",
        "\telse:\n",
        "\t\treturn 0\n",
        "\n",
        "# design Perceptron Model\n",
        "def perceptronModel(x, w, b):\n",
        "\tv = np.dot(w, x) + b\n",
        "\ty = unitStep(v)\n",
        "\treturn y\n",
        "\n",
        "# OR Logic Function\n",
        "def OR_logicFunction(x):\n",
        "\tw = np.array([1, 1])\n",
        "\tb = 1\n",
        "\treturn perceptronModel(x, w, b)\n",
        "\n",
        "# testing the Perceptron Model\n",
        "test1 = np.array([0, 1])\n",
        "test2 = np.array([1, 1])\n",
        "test3 = np.array([0, 0])\n",
        "test4 = np.array([1, 0])\n",
        "\n",
        "print(\"OR({}, {}) = {}\".format(0, 1, OR_logicFunction(test1)))\n",
        "print(\"OR({}, {}) = {}\".format(1, 1, OR_logicFunction(test2)))\n",
        "print(\"OR({}, {}) = {}\".format(0, 0, OR_logicFunction(test3)))\n",
        "print(\"OR({}, {}) = {}\".format(1, 0, OR_logicFunction(test4)))\n"
      ],
      "metadata": {
        "colab": {
          "base_uri": "https://localhost:8080/"
        },
        "id": "qllZ_OQBvxrf",
        "outputId": "4daa1b31-0e61-41e5-b9f2-c1b6a0f6db47"
      },
      "execution_count": null,
      "outputs": [
        {
          "output_type": "stream",
          "name": "stdout",
          "text": [
            "OR(0, 1) = 1\n",
            "OR(1, 1) = 1\n",
            "OR(0, 0) = 0\n",
            "OR(1, 0) = 1\n"
          ]
        }
      ]
    },
    {
      "cell_type": "code",
      "source": [
        "def unitStep(v):\n",
        "\tif v > 1:\n",
        "\t\treturn 1\n",
        "\telse:\n",
        "\t\treturn 0\n",
        "\n",
        "# design Perceptron Model\n",
        "def perceptronModel(x, w, b):\n",
        "\tv = np.dot(w, x) + b\n",
        "\ty = unitStep(v)\n",
        "\treturn y\n",
        "\n",
        "# XOR Logic Function\n",
        "def XOR_logicFunction(x):\n",
        "\tw = np.array([1, 1])\n",
        "\tb = 1\n",
        "\treturn perceptronModel(x, w, b)\n",
        "\n",
        "# testing the Perceptron Model\n",
        "test1 = np.array([0, 1])\n",
        "test2 = np.array([1, 1])\n",
        "test3 = np.array([0, 0])\n",
        "test4 = np.array([1, 0])\n",
        "\n",
        "print(\"XOR({}, {}) = {}\".format(0, 1, XOR_logicFunction(test1)))\n",
        "print(\"XOR({}, {}) = {}\".format(1, 1, XOR_logicFunction(test2)))\n",
        "print(\"XOR({}, {}) = {}\".format(0, 0, XOR_logicFunction(test3)))\n",
        "print(\"XOR({}, {}) = {}\".format(1, 0, XOR_logicFunction(test4)))"
      ],
      "metadata": {
        "id": "dCzB5eolwUfP",
        "colab": {
          "base_uri": "https://localhost:8080/"
        },
        "outputId": "3bccedf7-d60b-48f7-be2e-1274eef55eae"
      },
      "execution_count": null,
      "outputs": [
        {
          "output_type": "stream",
          "name": "stdout",
          "text": [
            "XOR(0, 1) = 1\n",
            "XOR(1, 1) = 1\n",
            "XOR(0, 0) = 0\n",
            "XOR(1, 0) = 1\n"
          ]
        }
      ]
    }
  ]
}